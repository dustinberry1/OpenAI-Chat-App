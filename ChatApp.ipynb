{
 "cells": [
  {
   "cell_type": "code",
   "execution_count": null,
   "metadata": {},
   "outputs": [],
   "source": [
    "# OpenAI Chat App"
   ]
  },
  {
   "cell_type": "code",
   "execution_count": null,
   "metadata": {},
   "outputs": [],
   "source": [
    "# OpenAI interaction\n",
    "\n",
    "import openai\n",
    "\n",
    "openai.api_key = \"your-api-key\"\n",
    "\n",
    "def openai_chat(prompt):\n",
    "    response = openai.ChatCompletion.create(\n",
    "        model=\"gpt-4o-mini\",\n",
    "        messages=[{\"role\": \"user\", \"content\": prompt}]\n",
    "    )\n",
    "    return response['choices'][0]['message']['content']\n"
   ]
  },
  {
   "cell_type": "code",
   "execution_count": null,
   "metadata": {},
   "outputs": [],
   "source": [
    "# Extract text from pdf documents\n",
    "\n",
    "import fitz  # PyMuPDF\n",
    "\n",
    "# Function to read and extract text from a PDF\n",
    "def extract_text_from_pdf(pdf_path):\n",
    "    text = \"\"\n",
    "    with fitz.open(pdf_path) as doc:\n",
    "        for page_num in range(doc.page_count):\n",
    "            page = doc.load_page(page_num)\n",
    "            text += page.get_text()\n",
    "    return text\n",
    "\n",
    "# Paths to your PDF files\n",
    "pdf_paths = [\"C:/Users/dusti/Downloads/ARN42269-ALARACT_0872024-000-WEB-1.pdf\", \n",
    "             \"C:/Users/dusti/Downloads/ARN42269-ALARACT_0892024-000-WEB-1.pdf\", \n",
    "             \"C:/Users/dusti/Downloads/ARN42269-ALARACT_0912024-000-WEB-1.pdf\"]\n",
    "\n",
    "# Extract text from each PDF\n",
    "documents = [extract_text_from_pdf(path) for path in pdf_paths]\n"
   ]
  },
  {
   "cell_type": "code",
   "execution_count": null,
   "metadata": {},
   "outputs": [],
   "source": [
    "# Set up FAISS index for document retrieval\n",
    "\n",
    "import faiss\n",
    "import numpy as np\n",
    "from openai.embeddings_utils import get_embedding\n",
    "\n",
    "# Load your documents\n",
    "#documents = [\"add documents\"] ################################# should be able to use the variable from above\n",
    "\n",
    "# Generate and store embeddings\n",
    "def create_embeddings(texts):\n",
    "    embeddings = [get_embedding(text) for text in texts]\n",
    "    return np.array(embeddings)\n",
    "\n",
    "embeddings = create_embeddings(documents)\n",
    "\n",
    "# Initialize FAISS index\n",
    "dimension = embeddings.shape[1]  # Embedding size (e.g., 1536 for OpenAI models)\n",
    "index = faiss.IndexFlatL2(dimension)\n",
    "index.add(embeddings)\n",
    "\n",
    "# Function to retrieve top-k similar documents\n",
    "def retrieve_relevant_documents(query, k=3):\n",
    "    query_embedding = np.array([get_embedding(query)])\n",
    "    _, indices = index.search(query_embedding, k)\n",
    "    relevant_docs = [documents[i] for i in indices[0]]\n",
    "    return \"\\n\".join(relevant_docs)\n"
   ]
  },
  {
   "cell_type": "code",
   "execution_count": null,
   "metadata": {},
   "outputs": [],
   "source": [
    "# Set up RAG chatbot\n",
    "\n",
    "def chat_with_rag(query):\n",
    "    # Retrieve relevant documents based on the query\n",
    "    retrieved_context = retrieve_relevant_documents(query)\n",
    "    \n",
    "    # Construct a prompt with the retrieved context\n",
    "    augmented_prompt = f\"Context: {retrieved_context}\\n\\nUser: {query}\"\n",
    "    \n",
    "    # Get response from OpenAI\n",
    "    response = openai_chat(augmented_prompt)\n",
    "    return response\n"
   ]
  },
  {
   "cell_type": "code",
   "execution_count": null,
   "metadata": {},
   "outputs": [],
   "source": [
    "#Streamlit web interface\n",
    "\n",
    "import streamlit as st\n",
    "\n",
    "# Streamlit page setup\n",
    "st.title(\"Chat with OpenAI and Your Data\")\n",
    "st.write(\"Ask questions based on your data, grounded by RAG\")\n",
    "\n",
    "# Chat history\n",
    "if \"messages\" not in st.session_state:\n",
    "    st.session_state.messages = []\n",
    "\n",
    "# User input\n",
    "user_input = st.text_input(\"Your message\", \"\")\n",
    "\n",
    "# Process user input\n",
    "if user_input:\n",
    "    # Use chat_with_rag to get a grounded response\n",
    "    response = chat_with_rag(user_input)\n",
    "    \n",
    "    # Add to session state messages\n",
    "    st.session_state.messages.append((\"user\", user_input))\n",
    "    st.session_state.messages.append((\"assistant\", response))\n",
    "\n",
    "# Display chat messages\n",
    "for role, message in st.session_state.messages:\n",
    "    if role == \"user\":\n",
    "        st.write(f\"**You**: {message}\")\n",
    "    else:\n",
    "        st.write(f\"**Assistant**: {message}\")\n"
   ]
  }
 ],
 "metadata": {
  "language_info": {
   "name": "python"
  }
 },
 "nbformat": 4,
 "nbformat_minor": 2
}
