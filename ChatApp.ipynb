{
 "cells": [
  {
   "cell_type": "code",
   "execution_count": null,
   "metadata": {},
   "outputs": [],
   "source": [
    "# OpenAI Chat App"
   ]
  },
  {
   "cell_type": "code",
   "execution_count": null,
   "metadata": {},
   "outputs": [],
   "source": [
    "# OpenAI interaction\n",
    "\n",
    "\n",
    "import openai\n",
    "\n",
    "openai.api_key = \"...\"\n",
    "\n",
    "def openai_chat(prompt):\n",
    "    response = openai.ChatCompletion.create(\n",
    "        model=\"gpt-4o-mini\",\n",
    "        messages=[{\"role\": \"user\", \"content\": prompt}]\n",
    "    )\n",
    "    return response['choices'][0]['message']['content']\n"
   ]
  },
  {
   "cell_type": "code",
   "execution_count": 3,
   "metadata": {},
   "outputs": [],
   "source": [
    "# Extract text from pdf documents\n",
    "\n",
    "import fitz  # PyMuPDF\n",
    "\n",
    "# Function to read and extract text from a PDF\n",
    "def extract_text_from_pdf(pdf_path):\n",
    "    text = \"\"\n",
    "    with fitz.open(pdf_path) as doc:\n",
    "        for page_num in range(doc.page_count):\n",
    "            page = doc.load_page(page_num)\n",
    "            text += page.get_text()\n",
    "    return text\n",
    "\n",
    "# Paths to your PDF files\n",
    "pdf_paths = [\"C:/Users/dusti/Downloads/ARN42269-ALARACT_0872024-000-WEB-1.pdf\", \n",
    "             \"C:/Users/dusti/Downloads/ARN42268-ALARACT_0892024-000-WEB-1.pdf\", \n",
    "             \"C:/Users/dusti/Downloads/ARN42271-ALARACT_0912024-000-WEB-1.pdf\"]\n",
    "\n",
    "# Extract text from each PDF\n",
    "documents = [extract_text_from_pdf(path) for path in pdf_paths]\n"
   ]
  },
  {
   "cell_type": "code",
   "execution_count": null,
   "metadata": {},
   "outputs": [],
   "source": [
    "# openai.embeddings_utils package is deprecated, can potentially use something along the lines of the following code to get embeddings\n",
    "\n",
    "from openai import OpenAI\n",
    "client = OpenAI(api_key=\"YOUR_API_KEY\")\n",
    "\n",
    "def get_embedding(text, model=\"text-embedding-ada-002\"):\n",
    "   text = text.replace(\"\\n\", \" \")\n",
    "   return client.embeddings.create(input = [text], \n",
    "model=model).data[0].embedding\n",
    "\n",
    "df['ada_embedding'] = df.combined.apply(lambda x: get_embedding(x, model='text-embedding-ada-002'))"
   ]
  },
  {
   "cell_type": "code",
   "execution_count": 4,
   "metadata": {},
   "outputs": [
    {
     "ename": "ModuleNotFoundError",
     "evalue": "No module named 'openai.embeddings_utils'",
     "output_type": "error",
     "traceback": [
      "\u001b[1;31m---------------------------------------------------------------------------\u001b[0m",
      "\u001b[1;31mModuleNotFoundError\u001b[0m                       Traceback (most recent call last)",
      "Cell \u001b[1;32mIn[4], line 5\u001b[0m\n\u001b[0;32m      3\u001b[0m \u001b[38;5;28;01mimport\u001b[39;00m \u001b[38;5;21;01mfaiss\u001b[39;00m\n\u001b[0;32m      4\u001b[0m \u001b[38;5;28;01mimport\u001b[39;00m \u001b[38;5;21;01mnumpy\u001b[39;00m \u001b[38;5;28;01mas\u001b[39;00m \u001b[38;5;21;01mnp\u001b[39;00m\n\u001b[1;32m----> 5\u001b[0m \u001b[38;5;28;01mfrom\u001b[39;00m \u001b[38;5;21;01mopenai\u001b[39;00m\u001b[38;5;21;01m.\u001b[39;00m\u001b[38;5;21;01membeddings_utils\u001b[39;00m \u001b[38;5;28;01mimport\u001b[39;00m get_embedding\n\u001b[0;32m      7\u001b[0m \u001b[38;5;66;03m# Load your documents\u001b[39;00m\n\u001b[0;32m      8\u001b[0m \u001b[38;5;66;03m#documents = [\"add documents\"] ################################# should be able to use the variable from above\u001b[39;00m\n\u001b[0;32m      9\u001b[0m \n\u001b[0;32m     10\u001b[0m \u001b[38;5;66;03m# Generate and store embeddings\u001b[39;00m\n\u001b[0;32m     11\u001b[0m \u001b[38;5;28;01mdef\u001b[39;00m \u001b[38;5;21mcreate_embeddings\u001b[39m(texts):\n",
      "\u001b[1;31mModuleNotFoundError\u001b[0m: No module named 'openai.embeddings_utils'"
     ]
    }
   ],
   "source": [
    "# Set up FAISS index for document retrieval\n",
    "\n",
    "import faiss\n",
    "import numpy as np\n",
    "from openai.embeddings_utils import get_embedding\n",
    "\n",
    "# Load your documents\n",
    "#documents = [\"add documents\"] ################################# should be able to use the variable from above\n",
    "\n",
    "# Generate and store embeddings\n",
    "def create_embeddings(texts):\n",
    "    embeddings = [get_embedding(text) for text in texts]\n",
    "    return np.array(embeddings)\n",
    "\n",
    "embeddings = create_embeddings(documents)\n",
    "\n",
    "# Initialize FAISS index\n",
    "dimension = embeddings.shape[1]  # Embedding size (e.g., 1536 for OpenAI models)\n",
    "index = faiss.IndexFlatL2(dimension)\n",
    "index.add(embeddings)\n",
    "\n",
    "# Function to retrieve top-k similar documents\n",
    "def retrieve_relevant_documents(query, k=3):\n",
    "    query_embedding = np.array([get_embedding(query)])\n",
    "    _, indices = index.search(query_embedding, k)\n",
    "    relevant_docs = [documents[i] for i in indices[0]]\n",
    "    return \"\\n\".join(relevant_docs)\n"
   ]
  },
  {
   "cell_type": "code",
   "execution_count": null,
   "metadata": {},
   "outputs": [],
   "source": [
    "# Set up RAG chatbot\n",
    "\n",
    "def chat_with_rag(query):\n",
    "    # Retrieve relevant documents based on the query\n",
    "    retrieved_context = retrieve_relevant_documents(query)\n",
    "    \n",
    "    # Construct a prompt with the retrieved context\n",
    "    augmented_prompt = f\"Context: {retrieved_context}\\n\\nUser: {query}\"\n",
    "    \n",
    "    # Get response from OpenAI\n",
    "    response = openai_chat(augmented_prompt)\n",
    "    return response\n"
   ]
  },
  {
   "cell_type": "code",
   "execution_count": null,
   "metadata": {},
   "outputs": [],
   "source": [
    "#Streamlit web interface\n",
    "\n",
    "import streamlit as st\n",
    "\n",
    "# Streamlit page setup\n",
    "st.title(\"Chat with OpenAI and Your Data\")\n",
    "st.write(\"Ask questions based on your data, grounded by RAG\")\n",
    "\n",
    "# Chat history\n",
    "if \"messages\" not in st.session_state:\n",
    "    st.session_state.messages = []\n",
    "\n",
    "# User input\n",
    "user_input = st.text_input(\"Your message\", \"\")\n",
    "\n",
    "# Process user input\n",
    "if user_input:\n",
    "    # Use chat_with_rag to get a grounded response\n",
    "    response = chat_with_rag(user_input)\n",
    "    \n",
    "    # Add to session state messages\n",
    "    st.session_state.messages.append((\"user\", user_input))\n",
    "    st.session_state.messages.append((\"assistant\", response))\n",
    "\n",
    "# Display chat messages\n",
    "for role, message in st.session_state.messages:\n",
    "    if role == \"user\":\n",
    "        st.write(f\"**You**: {message}\")\n",
    "    else:\n",
    "        st.write(f\"**Assistant**: {message}\")\n"
   ]
  }
 ],
 "metadata": {
  "kernelspec": {
   "display_name": "chatvenv",
   "language": "python",
   "name": "python3"
  },
  "language_info": {
   "codemirror_mode": {
    "name": "ipython",
    "version": 3
   },
   "file_extension": ".py",
   "mimetype": "text/x-python",
   "name": "python",
   "nbconvert_exporter": "python",
   "pygments_lexer": "ipython3",
   "version": "3.12.7"
  }
 },
 "nbformat": 4,
 "nbformat_minor": 2
}
